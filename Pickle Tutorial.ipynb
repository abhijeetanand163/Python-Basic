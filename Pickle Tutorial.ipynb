{
 "cells": [
  {
   "cell_type": "code",
   "execution_count": 5,
   "metadata": {},
   "outputs": [],
   "source": [
    "import pickle\n",
    "\n",
    "\n",
    "example_dict = pd.read_csv('D/new_db/2.000.2.0.0.001.csv')\n",
    "\n",
    "example_dict = {0:\"running\", 1:\"walking\", 2:\"sedentary\", 3:\"others\", 4:\"sleeping\"}\n",
    "\n",
    "# wb is writting byte\n",
    "# create a dict.dat file in your local directory \n",
    "\n",
    "pickle_out = open('dict.dat','wb')\n",
    "\n",
    "# parameters: 1st: what do we want to dump, 2nd: where do we want to dump it\n",
    "# dump example_dict after pickling it to dict.dat file\n",
    "pickle.dump(example_dict , pickle_out)\n",
    "\n",
    "# close pickle \n",
    "\n",
    "pickle_out.close()"
   ]
  },
  {
   "cell_type": "markdown",
   "metadata": {},
   "source": [
    "## How to read back the pickled file"
   ]
  },
  {
   "cell_type": "code",
   "execution_count": 6,
   "metadata": {},
   "outputs": [
    {
     "name": "stdout",
     "output_type": "stream",
     "text": [
      "{0: 'running', 1: 'walking', 2: 'sedentary', 3: 'others', 4: 'sleeping'}\n"
     ]
    }
   ],
   "source": [
    "# opening dict.dat into read byte format \n",
    "# saving it in unpick and reading it. \n",
    "pickle_in = open('dict.dat' , 'rb')\n",
    "unpick = pickle.load(pickle_in)\n",
    "print(unpick)"
   ]
  },
  {
   "cell_type": "code",
   "execution_count": 8,
   "metadata": {},
   "outputs": [],
   "source": [
    "import pandas as pd\n",
    "\n",
    "example_df = pd.read_csv('D/new_db/2.000.2.0.0.001.csv')\n",
    "\n",
    "pickle_out = open('example_df.dat','wb')\n",
    "pickle.dump(example_df , pickle_out)\n",
    "pickle_out.close()\n"
   ]
  },
  {
   "cell_type": "code",
   "execution_count": 9,
   "metadata": {},
   "outputs": [],
   "source": [
    "pickle_in = open('example_df.dat' , 'rb')\n",
    "unpick = pickle.load(pickle_in)\n"
   ]
  },
  {
   "cell_type": "code",
   "execution_count": 10,
   "metadata": {},
   "outputs": [
    {
     "data": {
      "text/html": [
       "<div>\n",
       "<style scoped>\n",
       "    .dataframe tbody tr th:only-of-type {\n",
       "        vertical-align: middle;\n",
       "    }\n",
       "\n",
       "    .dataframe tbody tr th {\n",
       "        vertical-align: top;\n",
       "    }\n",
       "\n",
       "    .dataframe thead th {\n",
       "        text-align: right;\n",
       "    }\n",
       "</style>\n",
       "<table border=\"1\" class=\"dataframe\">\n",
       "  <thead>\n",
       "    <tr style=\"text-align: right;\">\n",
       "      <th></th>\n",
       "      <th>time</th>\n",
       "      <th>ecg1</th>\n",
       "      <th>ecg2</th>\n",
       "      <th>green</th>\n",
       "      <th>red</th>\n",
       "      <th>ir</th>\n",
       "      <th>xaxis</th>\n",
       "      <th>yaxis</th>\n",
       "      <th>zaxis</th>\n",
       "      <th>temperature</th>\n",
       "      <th>lod</th>\n",
       "      <th>count</th>\n",
       "    </tr>\n",
       "  </thead>\n",
       "  <tbody>\n",
       "    <tr>\n",
       "      <th>0</th>\n",
       "      <td>1.544098e+09</td>\n",
       "      <td>2007</td>\n",
       "      <td>2163</td>\n",
       "      <td>56098</td>\n",
       "      <td>48888</td>\n",
       "      <td>53608</td>\n",
       "      <td>-656</td>\n",
       "      <td>416</td>\n",
       "      <td>7216</td>\n",
       "      <td>3345</td>\n",
       "      <td>3</td>\n",
       "      <td>37</td>\n",
       "    </tr>\n",
       "    <tr>\n",
       "      <th>1</th>\n",
       "      <td>1.544098e+09</td>\n",
       "      <td>2030</td>\n",
       "      <td>2184</td>\n",
       "      <td>56098</td>\n",
       "      <td>48892</td>\n",
       "      <td>53613</td>\n",
       "      <td>-2608</td>\n",
       "      <td>-4176</td>\n",
       "      <td>6704</td>\n",
       "      <td>3326</td>\n",
       "      <td>3</td>\n",
       "      <td>38</td>\n",
       "    </tr>\n",
       "    <tr>\n",
       "      <th>2</th>\n",
       "      <td>1.544098e+09</td>\n",
       "      <td>2041</td>\n",
       "      <td>2194</td>\n",
       "      <td>56104</td>\n",
       "      <td>48901</td>\n",
       "      <td>53632</td>\n",
       "      <td>-2928</td>\n",
       "      <td>-3904</td>\n",
       "      <td>6272</td>\n",
       "      <td>3331</td>\n",
       "      <td>3</td>\n",
       "      <td>40</td>\n",
       "    </tr>\n",
       "    <tr>\n",
       "      <th>3</th>\n",
       "      <td>1.544098e+09</td>\n",
       "      <td>2045</td>\n",
       "      <td>2212</td>\n",
       "      <td>56105</td>\n",
       "      <td>48887</td>\n",
       "      <td>53612</td>\n",
       "      <td>-2928</td>\n",
       "      <td>-3904</td>\n",
       "      <td>6272</td>\n",
       "      <td>3308</td>\n",
       "      <td>3</td>\n",
       "      <td>41</td>\n",
       "    </tr>\n",
       "    <tr>\n",
       "      <th>4</th>\n",
       "      <td>1.544098e+09</td>\n",
       "      <td>2030</td>\n",
       "      <td>2206</td>\n",
       "      <td>56098</td>\n",
       "      <td>48895</td>\n",
       "      <td>53612</td>\n",
       "      <td>736</td>\n",
       "      <td>-2256</td>\n",
       "      <td>7904</td>\n",
       "      <td>3303</td>\n",
       "      <td>3</td>\n",
       "      <td>42</td>\n",
       "    </tr>\n",
       "  </tbody>\n",
       "</table>\n",
       "</div>"
      ],
      "text/plain": [
       "           time  ecg1  ecg2  green    red     ir  xaxis  yaxis  zaxis  \\\n",
       "0  1.544098e+09  2007  2163  56098  48888  53608   -656    416   7216   \n",
       "1  1.544098e+09  2030  2184  56098  48892  53613  -2608  -4176   6704   \n",
       "2  1.544098e+09  2041  2194  56104  48901  53632  -2928  -3904   6272   \n",
       "3  1.544098e+09  2045  2212  56105  48887  53612  -2928  -3904   6272   \n",
       "4  1.544098e+09  2030  2206  56098  48895  53612    736  -2256   7904   \n",
       "\n",
       "   temperature  lod  count  \n",
       "0         3345    3     37  \n",
       "1         3326    3     38  \n",
       "2         3331    3     40  \n",
       "3         3308    3     41  \n",
       "4         3303    3     42  "
      ]
     },
     "execution_count": 10,
     "metadata": {},
     "output_type": "execute_result"
    }
   ],
   "source": [
    "# unpick is a dataframe , so my datatype is also saved. \n",
    "unpick.head()"
   ]
  },
  {
   "cell_type": "code",
   "execution_count": null,
   "metadata": {},
   "outputs": [],
   "source": []
  }
 ],
 "metadata": {
  "kernelspec": {
   "display_name": "Python 3",
   "language": "python",
   "name": "python3"
  },
  "language_info": {
   "codemirror_mode": {
    "name": "ipython",
    "version": 3
   },
   "file_extension": ".py",
   "mimetype": "text/x-python",
   "name": "python",
   "nbconvert_exporter": "python",
   "pygments_lexer": "ipython3",
   "version": "3.6.6"
  }
 },
 "nbformat": 4,
 "nbformat_minor": 2
}
