{
  "nbformat": 4,
  "nbformat_minor": 0,
  "metadata": {
    "colab": {
      "name": "tensorflow_basic",
      "version": "0.3.2",
      "provenance": []
    },
    "kernelspec": {
      "name": "python3",
      "display_name": "Python 3"
    }
  },
  "cells": [
    {
      "metadata": {
        "id": "4nOxn7E6ri_o",
        "colab_type": "code",
        "colab": {}
      },
      "cell_type": "code",
      "source": [
        "import tensorflow as tf\n"
      ],
      "execution_count": 0,
      "outputs": []
    },
    {
      "metadata": {
        "id": "ra7aWE0-rru-",
        "colab_type": "code",
        "outputId": "08d5ba4d-07f6-4f35-8e2f-f71c9c1deca9",
        "colab": {
          "base_uri": "https://localhost:8080/",
          "height": 34
        }
      },
      "cell_type": "code",
      "source": [
        "a = tf.constant([2,5,12])\n",
        "b = tf.constant([3,5,14])\n",
        "c = tf.add(a,b)\n",
        "print(c)"
      ],
      "execution_count": 2,
      "outputs": [
        {
          "output_type": "stream",
          "text": [
            "Tensor(\"Add:0\", shape=(3,), dtype=int32)\n"
          ],
          "name": "stdout"
        }
      ]
    },
    {
      "metadata": {
        "id": "zqRvLdLar-Cw",
        "colab_type": "code",
        "outputId": "0388032c-b286-4abf-be2f-748018776e91",
        "colab": {
          "base_uri": "https://localhost:8080/",
          "height": 34
        }
      },
      "cell_type": "code",
      "source": [
        "with tf.Session() as sess:\n",
        "  print (c.eval())\n",
        "  #result = sess.run(c)\n",
        "  #print (result)"
      ],
      "execution_count": 3,
      "outputs": [
        {
          "output_type": "stream",
          "text": [
            "[ 5 10 26]\n"
          ],
          "name": "stdout"
        }
      ]
    },
    {
      "metadata": {
        "id": "9J6AkJF6u2rW",
        "colab_type": "text"
      },
      "cell_type": "markdown",
      "source": [
        "**Creating a 4 dimensional tensor using stack method !  **"
      ]
    },
    {
      "metadata": {
        "id": "wNvJPk_9sfqb",
        "colab_type": "code",
        "colab": {}
      },
      "cell_type": "code",
      "source": [
        "# 1 dimnsional tensor (3,)\n",
        "x1 = tf.constant([2,3,5])"
      ],
      "execution_count": 0,
      "outputs": []
    },
    {
      "metadata": {
        "id": "ES6LrqwNt80h",
        "colab_type": "code",
        "colab": {}
      },
      "cell_type": "code",
      "source": [
        "# 2 dimensional tensor (2,3)\n",
        "x2 = tf.stack([x1 , x1])"
      ],
      "execution_count": 0,
      "outputs": []
    },
    {
      "metadata": {
        "id": "TZVXXtxgvYMu",
        "colab_type": "code",
        "colab": {}
      },
      "cell_type": "code",
      "source": [
        "# 3 dimensional tensor (4,2,3)\n",
        "x3 = tf.stack([x2,x2,x2,x2])"
      ],
      "execution_count": 0,
      "outputs": []
    },
    {
      "metadata": {
        "id": "2E19-Bqaviu8",
        "colab_type": "code",
        "colab": {}
      },
      "cell_type": "code",
      "source": [
        "# 4 dimensional tensor (2,4,2,3)\n",
        "x4 = tf.stack([x3,x3])"
      ],
      "execution_count": 0,
      "outputs": []
    },
    {
      "metadata": {
        "id": "kBp_8MVVxw1P",
        "colab_type": "text"
      },
      "cell_type": "markdown",
      "source": [
        "**Slicing Tensors**"
      ]
    },
    {
      "metadata": {
        "id": "B6ATFBBivtgv",
        "colab_type": "code",
        "outputId": "3e7f2d15-342b-452a-f0b8-0248e9db35a6",
        "colab": {
          "base_uri": "https://localhost:8080/",
          "height": 68
        }
      },
      "cell_type": "code",
      "source": [
        "# slicing x2 tensor!\n",
        "\n",
        "y = x2[:,1]\n",
        "\n",
        "with tf.Session() as sess:\n",
        "  print(x2.eval())\n",
        "  print(\" y is : \" , y.eval())\n",
        "  "
      ],
      "execution_count": 8,
      "outputs": [
        {
          "output_type": "stream",
          "text": [
            "[[2 3 5]\n",
            " [2 3 5]]\n",
            " y is :  [3 3]\n"
          ],
          "name": "stdout"
        }
      ]
    },
    {
      "metadata": {
        "id": "zqFsJBDUykC2",
        "colab_type": "text"
      },
      "cell_type": "markdown",
      "source": [
        "**Slicing of second element of every row **"
      ]
    },
    {
      "metadata": {
        "id": "MCphhqKFyLoI",
        "colab_type": "code",
        "colab": {}
      },
      "cell_type": "code",
      "source": [
        ""
      ],
      "execution_count": 0,
      "outputs": []
    },
    {
      "metadata": {
        "id": "CLbQ8k0FzR_Z",
        "colab_type": "text"
      },
      "cell_type": "markdown",
      "source": [
        "**In Tensor flow we can reshape the tensors too !**"
      ]
    },
    {
      "metadata": {
        "id": "OopVhf_VzZ_W",
        "colab_type": "code",
        "outputId": "87ddf682-406c-459d-c6b1-885dd380449c",
        "colab": {
          "base_uri": "https://localhost:8080/",
          "height": 68
        }
      },
      "cell_type": "code",
      "source": [
        "# reshaping the (2,3) matrix into (3,2). Since tf.reshape row by row, first two element of first row will be taken and then 3rd element of 1st row and 1 element of\n",
        "# second row will be taken and so on !!\n",
        "y = tf.reshape(x2 , [3,2])\n",
        "with tf.Session() as sess:\n",
        "  print(y.eval())"
      ],
      "execution_count": 9,
      "outputs": [
        {
          "output_type": "stream",
          "text": [
            "[[2 3]\n",
            " [5 2]\n",
            " [3 5]]\n"
          ],
          "name": "stdout"
        }
      ]
    },
    {
      "metadata": {
        "id": "-9yRogFj0ElR",
        "colab_type": "code",
        "colab": {}
      },
      "cell_type": "code",
      "source": [
        ""
      ],
      "execution_count": 0,
      "outputs": []
    }
  ]
}