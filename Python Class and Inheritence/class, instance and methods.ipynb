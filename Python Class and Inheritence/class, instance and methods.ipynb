{
 "cells": [
  {
   "cell_type": "markdown",
   "metadata": {},
   "source": [
    "## Python Class"
   ]
  },
  {
   "cell_type": "markdown",
   "metadata": {},
   "source": [
    "If we think Class as factory then instances are the product the factory produces.\n",
    "Convention is name of the class starts with capital letter. "
   ]
  },
  {
   "cell_type": "code",
   "execution_count": 4,
   "metadata": {},
   "outputs": [],
   "source": [
    "class Point():\n",
    "    pass"
   ]
  },
  {
   "cell_type": "markdown",
   "metadata": {},
   "source": [
    "#### point 1 and point 2 are the instance"
   ]
  },
  {
   "cell_type": "code",
   "execution_count": 7,
   "metadata": {},
   "outputs": [
    {
     "name": "stdout",
     "output_type": "stream",
     "text": [
      "<__main__.Point object at 0x000001EAE94F8BE0>\n",
      "<__main__.Point object at 0x000001EAE8C5FA58>\n",
      "False\n"
     ]
    }
   ],
   "source": [
    "point1 = Point()\n",
    "point2 = Point()\n",
    "print(point1)\n",
    "print(point2)\n",
    "print(point1 == point2)"
   ]
  },
  {
   "cell_type": "markdown",
   "metadata": {},
   "source": [
    "here point1 and point2 are separate instances that is why they are not same !"
   ]
  },
  {
   "cell_type": "markdown",
   "metadata": {},
   "source": [
    "## Instance Variable. \n",
    "The variable that lives inside the instance. "
   ]
  },
  {
   "cell_type": "code",
   "execution_count": 10,
   "metadata": {},
   "outputs": [
    {
     "name": "stdout",
     "output_type": "stream",
     "text": [
      "5\n"
     ]
    }
   ],
   "source": [
    "point1.x = 5\n",
    "point2.x = 10\n",
    "print(point1.x)\n",
    "\n",
    "# here x is instance variable of point1\n",
    "# here x is instance variable of point2\n",
    "# both have their own instance variable x."
   ]
  },
  {
   "cell_type": "markdown",
   "metadata": {},
   "source": [
    "### Method is a function but it belongs to a class!"
   ]
  },
  {
   "cell_type": "code",
   "execution_count": 14,
   "metadata": {},
   "outputs": [
    {
     "name": "stdout",
     "output_type": "stream",
     "text": [
      "5\n"
     ]
    }
   ],
   "source": [
    "class Points():\n",
    "    def getX(self):\n",
    "        return self.x \n",
    "\n",
    "point1 = Points()\n",
    "point2 = Points()\n",
    "point1.x = 5\n",
    "point2.x = 10\n",
    "print(point1.getX())\n",
    "\n",
    "# Here we are automatically passing instance point1 as self. Python just takes the instance and passes it in as the value of self"
   ]
  },
  {
   "cell_type": "markdown",
   "metadata": {},
   "source": [
    "###### One difference between method and function is that method always has one argument !!"
   ]
  }
 ],
 "metadata": {
  "kernelspec": {
   "display_name": "Python 3",
   "language": "python",
   "name": "python3"
  },
  "language_info": {
   "codemirror_mode": {
    "name": "ipython",
    "version": 3
   },
   "file_extension": ".py",
   "mimetype": "text/x-python",
   "name": "python",
   "nbconvert_exporter": "python",
   "pygments_lexer": "ipython3",
   "version": "3.7.0"
  }
 },
 "nbformat": 4,
 "nbformat_minor": 2
}
