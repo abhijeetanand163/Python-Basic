{
  "nbformat": 4,
  "nbformat_minor": 0,
  "metadata": {
    "colab": {
      "name": "Bagging.ipynb",
      "version": "0.3.2",
      "provenance": [],
      "include_colab_link": true
    },
    "kernelspec": {
      "name": "python3",
      "display_name": "Python 3"
    }
  },
  "cells": [
    {
      "cell_type": "markdown",
      "metadata": {
        "id": "view-in-github",
        "colab_type": "text"
      },
      "source": [
        "<a href=\"https://colab.research.google.com/github/abbi163/pythonBasic/blob/master/Bagging.ipynb\" target=\"_parent\"><img src=\"https://colab.research.google.com/assets/colab-badge.svg\" alt=\"Open In Colab\"/></a>"
      ]
    },
    {
      "metadata": {
        "id": "j3HEFhtm0a1h",
        "colab_type": "text"
      },
      "cell_type": "markdown",
      "source": [
        "**Bagging : **\n",
        "Means  averaging slightly different versions of the same model to improve accuracy.\n",
        "\n",
        "A common and successful application of bagging is **Random Forest** where we run many different version of decision tree in order to get a better prediction. "
      ]
    },
    {
      "metadata": {
        "id": "fWXnz0jg1AES",
        "colab_type": "text"
      },
      "cell_type": "markdown",
      "source": [
        "**Why Bagging**\n",
        "2 main source of erroer in modelling:\n",
        "\n",
        "1. Error due to Bias(underfitting) \n",
        "2. Error due to Variance(overfitting)\n"
      ]
    },
    {
      "metadata": {
        "id": "acRwixYA3aye",
        "colab_type": "text"
      },
      "cell_type": "markdown",
      "source": [
        "**Example of High Bias and low variance :**\n",
        "\n",
        "A rich guy. A costly car. If we say this person will not buy costly car.  It doesnot explore lot of data, (didn't explore deep relationship). \n",
        "So this model is  underfitted"
      ]
    },
    {
      "metadata": {
        "id": "nWpPey1m4_a6",
        "colab_type": "text"
      },
      "cell_type": "markdown",
      "source": [
        "**Example of High Variance and Low Bias : **\n",
        "\n",
        "A person Jhon lives in a green house and he has brown eyes and we want to see if he will buy a car. A model that has gone so deep has low bias. It generalizes for something which it shouldn't . It's over exausted. It has been overfitted. "
      ]
    },
    {
      "metadata": {
        "id": "jTM2pIiK56T0",
        "colab_type": "text"
      },
      "cell_type": "markdown",
      "source": [
        "\n",
        "\n",
        "\n",
        "\n",
        "---\n",
        "\n",
        "\n",
        "\n",
        "<C>![Understanding Model Complexity and Error](https://i.stack.imgur.com/rpqa6.jpg)</C>\n",
        "\n",
        "\n",
        "---\n",
        "\n",
        "\n",
        "\n"
      ]
    },
    {
      "metadata": {
        "id": "olUUuv6e0aQm",
        "colab_type": "code",
        "colab": {}
      },
      "cell_type": "code",
      "source": [
        ""
      ],
      "execution_count": 0,
      "outputs": []
    },
    {
      "metadata": {
        "id": "P2ht-L2R7BBJ",
        "colab_type": "text"
      },
      "cell_type": "markdown",
      "source": [
        "![alt text](https://cdn-images-1.medium.com/max/1600/1*gy5zEJ2_QfhKMNc3BAjLSA.png)"
      ]
    },
    {
      "metadata": {
        "id": "Rm7Tcira6jJh",
        "colab_type": "code",
        "colab": {}
      },
      "cell_type": "code",
      "source": [
        ""
      ],
      "execution_count": 0,
      "outputs": []
    }
  ]
}